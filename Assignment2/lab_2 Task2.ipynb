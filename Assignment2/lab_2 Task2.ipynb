{
 "cells": [
  {
   "cell_type": "markdown",
   "metadata": {},
   "source": [
    "\n",
    "# Task 2 on loan.csv"
   ]
  },
  {
   "cell_type": "code",
   "execution_count": 2,
   "metadata": {},
   "outputs": [
    {
     "name": "stdout",
     "output_type": "stream",
     "text": [
      "Binal Manoj Bariya (20MAI0075)\n"
     ]
    }
   ],
   "source": [
    "print(\"Binal Manoj Bariya (20MAI0075)\")"
   ]
  },
  {
   "cell_type": "code",
   "execution_count": 3,
   "metadata": {},
   "outputs": [
    {
     "name": "stdout",
     "output_type": "stream",
     "text": [
      "Github link : https://github.com/binalbariya/ML-Techniques/tree/main/Assignment2\n"
     ]
    }
   ],
   "source": [
    "print(\"Github link : https://github.com/binalbariya/ML-Techniques/tree/main/Assignment2\")"
   ]
  },
  {
   "cell_type": "code",
   "execution_count": 4,
   "metadata": {},
   "outputs": [],
   "source": [
    "#import libraries\n",
    "import pandas as pd\n",
    "import numpy as np"
   ]
  },
  {
   "cell_type": "code",
   "execution_count": 5,
   "metadata": {},
   "outputs": [],
   "source": [
    "#load the data\n",
    "data = pd.read_csv(\"loan.csv\",header = None)\n"
   ]
  },
  {
   "cell_type": "code",
   "execution_count": 6,
   "metadata": {},
   "outputs": [
    {
     "data": {
      "text/plain": [
       "(10001, 14)"
      ]
     },
     "execution_count": 6,
     "metadata": {},
     "output_type": "execute_result"
    }
   ],
   "source": [
    "data.shape"
   ]
  },
  {
   "cell_type": "code",
   "execution_count": 7,
   "metadata": {},
   "outputs": [
    {
     "data": {
      "text/html": [
       "<div>\n",
       "<style scoped>\n",
       "    .dataframe tbody tr th:only-of-type {\n",
       "        vertical-align: middle;\n",
       "    }\n",
       "\n",
       "    .dataframe tbody tr th {\n",
       "        vertical-align: top;\n",
       "    }\n",
       "\n",
       "    .dataframe thead th {\n",
       "        text-align: right;\n",
       "    }\n",
       "</style>\n",
       "<table border=\"1\" class=\"dataframe\">\n",
       "  <thead>\n",
       "    <tr style=\"text-align: right;\">\n",
       "      <th></th>\n",
       "      <th>0</th>\n",
       "      <th>1</th>\n",
       "      <th>2</th>\n",
       "      <th>3</th>\n",
       "      <th>4</th>\n",
       "      <th>5</th>\n",
       "      <th>6</th>\n",
       "      <th>7</th>\n",
       "      <th>8</th>\n",
       "      <th>9</th>\n",
       "      <th>10</th>\n",
       "      <th>11</th>\n",
       "      <th>12</th>\n",
       "      <th>13</th>\n",
       "    </tr>\n",
       "  </thead>\n",
       "  <tbody>\n",
       "    <tr>\n",
       "      <th>0</th>\n",
       "      <td>customer_id</td>\n",
       "      <td>disbursed_amount</td>\n",
       "      <td>interest</td>\n",
       "      <td>market</td>\n",
       "      <td>employment</td>\n",
       "      <td>time_employed</td>\n",
       "      <td>householder</td>\n",
       "      <td>income</td>\n",
       "      <td>date_issued</td>\n",
       "      <td>target</td>\n",
       "      <td>loan_purpose</td>\n",
       "      <td>number_open_accounts</td>\n",
       "      <td>date_last_payment</td>\n",
       "      <td>number_credit_lines_12</td>\n",
       "    </tr>\n",
       "    <tr>\n",
       "      <th>1</th>\n",
       "      <td>0</td>\n",
       "      <td>23201.5</td>\n",
       "      <td>15.484</td>\n",
       "      <td>C</td>\n",
       "      <td>Teacher</td>\n",
       "      <td>&lt;=5 years</td>\n",
       "      <td>RENT</td>\n",
       "      <td>84600.0</td>\n",
       "      <td>2013-06-11</td>\n",
       "      <td>0</td>\n",
       "      <td>Debt consolidation</td>\n",
       "      <td>4.0</td>\n",
       "      <td>2016-01-14</td>\n",
       "      <td>NaN</td>\n",
       "    </tr>\n",
       "    <tr>\n",
       "      <th>2</th>\n",
       "      <td>1</td>\n",
       "      <td>7425.0</td>\n",
       "      <td>11.2032</td>\n",
       "      <td>B</td>\n",
       "      <td>Accountant</td>\n",
       "      <td>&lt;=5 years</td>\n",
       "      <td>OWNER</td>\n",
       "      <td>102000.0</td>\n",
       "      <td>2014-05-08</td>\n",
       "      <td>0</td>\n",
       "      <td>Car purchase</td>\n",
       "      <td>13.0</td>\n",
       "      <td>2016-01-25</td>\n",
       "      <td>NaN</td>\n",
       "    </tr>\n",
       "    <tr>\n",
       "      <th>3</th>\n",
       "      <td>2</td>\n",
       "      <td>11150.0</td>\n",
       "      <td>8.51</td>\n",
       "      <td>A</td>\n",
       "      <td>Statistician</td>\n",
       "      <td>&lt;=5 years</td>\n",
       "      <td>RENT</td>\n",
       "      <td>69840.0</td>\n",
       "      <td>2013-10-26</td>\n",
       "      <td>0</td>\n",
       "      <td>Debt consolidation</td>\n",
       "      <td>8.0</td>\n",
       "      <td>2014-09-26</td>\n",
       "      <td>NaN</td>\n",
       "    </tr>\n",
       "    <tr>\n",
       "      <th>4</th>\n",
       "      <td>3</td>\n",
       "      <td>7600.0</td>\n",
       "      <td>5.865600000000001</td>\n",
       "      <td>A</td>\n",
       "      <td>Other</td>\n",
       "      <td>&lt;=5 years</td>\n",
       "      <td>RENT</td>\n",
       "      <td>100386.0</td>\n",
       "      <td>2015-08-20</td>\n",
       "      <td>0</td>\n",
       "      <td>Debt consolidation</td>\n",
       "      <td>20.0</td>\n",
       "      <td>2016-01-26</td>\n",
       "      <td>NaN</td>\n",
       "    </tr>\n",
       "  </tbody>\n",
       "</table>\n",
       "</div>"
      ],
      "text/plain": [
       "            0                 1                  2       3             4   \\\n",
       "0  customer_id  disbursed_amount           interest  market    employment   \n",
       "1            0           23201.5             15.484       C       Teacher   \n",
       "2            1            7425.0            11.2032       B    Accountant   \n",
       "3            2           11150.0               8.51       A  Statistician   \n",
       "4            3            7600.0  5.865600000000001       A         Other   \n",
       "\n",
       "              5            6         7            8       9   \\\n",
       "0  time_employed  householder    income  date_issued  target   \n",
       "1      <=5 years         RENT   84600.0   2013-06-11       0   \n",
       "2      <=5 years        OWNER  102000.0   2014-05-08       0   \n",
       "3      <=5 years         RENT   69840.0   2013-10-26       0   \n",
       "4      <=5 years         RENT  100386.0   2015-08-20       0   \n",
       "\n",
       "                   10                    11                 12  \\\n",
       "0        loan_purpose  number_open_accounts  date_last_payment   \n",
       "1  Debt consolidation                   4.0         2016-01-14   \n",
       "2        Car purchase                  13.0         2016-01-25   \n",
       "3  Debt consolidation                   8.0         2014-09-26   \n",
       "4  Debt consolidation                  20.0         2016-01-26   \n",
       "\n",
       "                       13  \n",
       "0  number_credit_lines_12  \n",
       "1                     NaN  \n",
       "2                     NaN  \n",
       "3                     NaN  \n",
       "4                     NaN  "
      ]
     },
     "execution_count": 7,
     "metadata": {},
     "output_type": "execute_result"
    }
   ],
   "source": [
    "data.head()"
   ]
  },
  {
   "cell_type": "code",
   "execution_count": 8,
   "metadata": {},
   "outputs": [
    {
     "data": {
      "text/plain": [
       "Int64Index([0, 1, 2, 3, 4, 5, 6, 7, 8, 9, 10, 11, 12, 13], dtype='int64')"
      ]
     },
     "execution_count": 8,
     "metadata": {},
     "output_type": "execute_result"
    }
   ],
   "source": [
    "data.columns"
   ]
  },
  {
   "cell_type": "code",
   "execution_count": 9,
   "metadata": {},
   "outputs": [],
   "source": [
    "header_row = 0\n"
   ]
  },
  {
   "cell_type": "code",
   "execution_count": 10,
   "metadata": {},
   "outputs": [],
   "source": [
    "data.columns = data.iloc[header_row]"
   ]
  },
  {
   "cell_type": "code",
   "execution_count": 11,
   "metadata": {},
   "outputs": [
    {
     "data": {
      "text/plain": [
       "Index(['customer_id', 'disbursed_amount', 'interest', 'market', 'employment',\n",
       "       'time_employed', 'householder', 'income', 'date_issued', 'target',\n",
       "       'loan_purpose', 'number_open_accounts', 'date_last_payment',\n",
       "       'number_credit_lines_12'],\n",
       "      dtype='object', name=0)"
      ]
     },
     "execution_count": 11,
     "metadata": {},
     "output_type": "execute_result"
    }
   ],
   "source": [
    "data.columns"
   ]
  },
  {
   "cell_type": "code",
   "execution_count": 12,
   "metadata": {},
   "outputs": [],
   "source": [
    "data = data.drop(header_row)"
   ]
  },
  {
   "cell_type": "code",
   "execution_count": 13,
   "metadata": {},
   "outputs": [
    {
     "data": {
      "text/html": [
       "<div>\n",
       "<style scoped>\n",
       "    .dataframe tbody tr th:only-of-type {\n",
       "        vertical-align: middle;\n",
       "    }\n",
       "\n",
       "    .dataframe tbody tr th {\n",
       "        vertical-align: top;\n",
       "    }\n",
       "\n",
       "    .dataframe thead th {\n",
       "        text-align: right;\n",
       "    }\n",
       "</style>\n",
       "<table border=\"1\" class=\"dataframe\">\n",
       "  <thead>\n",
       "    <tr style=\"text-align: right;\">\n",
       "      <th></th>\n",
       "      <th>customer_id</th>\n",
       "      <th>disbursed_amount</th>\n",
       "      <th>interest</th>\n",
       "      <th>market</th>\n",
       "      <th>employment</th>\n",
       "      <th>time_employed</th>\n",
       "      <th>householder</th>\n",
       "      <th>income</th>\n",
       "      <th>date_issued</th>\n",
       "      <th>target</th>\n",
       "      <th>loan_purpose</th>\n",
       "      <th>number_open_accounts</th>\n",
       "      <th>date_last_payment</th>\n",
       "      <th>number_credit_lines_12</th>\n",
       "    </tr>\n",
       "  </thead>\n",
       "  <tbody>\n",
       "    <tr>\n",
       "      <th>1</th>\n",
       "      <td>0</td>\n",
       "      <td>23201.5</td>\n",
       "      <td>15.484</td>\n",
       "      <td>C</td>\n",
       "      <td>Teacher</td>\n",
       "      <td>&lt;=5 years</td>\n",
       "      <td>RENT</td>\n",
       "      <td>84600.0</td>\n",
       "      <td>2013-06-11</td>\n",
       "      <td>0</td>\n",
       "      <td>Debt consolidation</td>\n",
       "      <td>4.0</td>\n",
       "      <td>2016-01-14</td>\n",
       "      <td>NaN</td>\n",
       "    </tr>\n",
       "    <tr>\n",
       "      <th>2</th>\n",
       "      <td>1</td>\n",
       "      <td>7425.0</td>\n",
       "      <td>11.2032</td>\n",
       "      <td>B</td>\n",
       "      <td>Accountant</td>\n",
       "      <td>&lt;=5 years</td>\n",
       "      <td>OWNER</td>\n",
       "      <td>102000.0</td>\n",
       "      <td>2014-05-08</td>\n",
       "      <td>0</td>\n",
       "      <td>Car purchase</td>\n",
       "      <td>13.0</td>\n",
       "      <td>2016-01-25</td>\n",
       "      <td>NaN</td>\n",
       "    </tr>\n",
       "    <tr>\n",
       "      <th>3</th>\n",
       "      <td>2</td>\n",
       "      <td>11150.0</td>\n",
       "      <td>8.51</td>\n",
       "      <td>A</td>\n",
       "      <td>Statistician</td>\n",
       "      <td>&lt;=5 years</td>\n",
       "      <td>RENT</td>\n",
       "      <td>69840.0</td>\n",
       "      <td>2013-10-26</td>\n",
       "      <td>0</td>\n",
       "      <td>Debt consolidation</td>\n",
       "      <td>8.0</td>\n",
       "      <td>2014-09-26</td>\n",
       "      <td>NaN</td>\n",
       "    </tr>\n",
       "    <tr>\n",
       "      <th>4</th>\n",
       "      <td>3</td>\n",
       "      <td>7600.0</td>\n",
       "      <td>5.865600000000001</td>\n",
       "      <td>A</td>\n",
       "      <td>Other</td>\n",
       "      <td>&lt;=5 years</td>\n",
       "      <td>RENT</td>\n",
       "      <td>100386.0</td>\n",
       "      <td>2015-08-20</td>\n",
       "      <td>0</td>\n",
       "      <td>Debt consolidation</td>\n",
       "      <td>20.0</td>\n",
       "      <td>2016-01-26</td>\n",
       "      <td>NaN</td>\n",
       "    </tr>\n",
       "    <tr>\n",
       "      <th>5</th>\n",
       "      <td>4</td>\n",
       "      <td>31960.0</td>\n",
       "      <td>18.7392</td>\n",
       "      <td>E</td>\n",
       "      <td>Bus driver</td>\n",
       "      <td>&gt;5 years</td>\n",
       "      <td>RENT</td>\n",
       "      <td>95040.0</td>\n",
       "      <td>2014-07-22</td>\n",
       "      <td>0</td>\n",
       "      <td>Debt consolidation</td>\n",
       "      <td>14.0</td>\n",
       "      <td>2016-01-11</td>\n",
       "      <td>NaN</td>\n",
       "    </tr>\n",
       "  </tbody>\n",
       "</table>\n",
       "</div>"
      ],
      "text/plain": [
       "0 customer_id disbursed_amount           interest market    employment  \\\n",
       "1           0          23201.5             15.484      C       Teacher   \n",
       "2           1           7425.0            11.2032      B    Accountant   \n",
       "3           2          11150.0               8.51      A  Statistician   \n",
       "4           3           7600.0  5.865600000000001      A         Other   \n",
       "5           4          31960.0            18.7392      E    Bus driver   \n",
       "\n",
       "0 time_employed householder    income date_issued target        loan_purpose  \\\n",
       "1     <=5 years        RENT   84600.0  2013-06-11      0  Debt consolidation   \n",
       "2     <=5 years       OWNER  102000.0  2014-05-08      0        Car purchase   \n",
       "3     <=5 years        RENT   69840.0  2013-10-26      0  Debt consolidation   \n",
       "4     <=5 years        RENT  100386.0  2015-08-20      0  Debt consolidation   \n",
       "5      >5 years        RENT   95040.0  2014-07-22      0  Debt consolidation   \n",
       "\n",
       "0 number_open_accounts date_last_payment number_credit_lines_12  \n",
       "1                  4.0        2016-01-14                    NaN  \n",
       "2                 13.0        2016-01-25                    NaN  \n",
       "3                  8.0        2014-09-26                    NaN  \n",
       "4                 20.0        2016-01-26                    NaN  \n",
       "5                 14.0        2016-01-11                    NaN  "
      ]
     },
     "execution_count": 13,
     "metadata": {},
     "output_type": "execute_result"
    }
   ],
   "source": [
    "data.head()"
   ]
  },
  {
   "cell_type": "markdown",
   "metadata": {},
   "source": [
    "# Question 1"
   ]
  },
  {
   "cell_type": "code",
   "execution_count": 14,
   "metadata": {},
   "outputs": [
    {
     "name": "stdout",
     "output_type": "stream",
     "text": [
      "<class 'pandas.core.frame.DataFrame'>\n",
      "Int64Index: 10000 entries, 1 to 10000\n",
      "Data columns (total 14 columns):\n",
      " #   Column                  Non-Null Count  Dtype \n",
      "---  ------                  --------------  ----- \n",
      " 0   customer_id             10000 non-null  object\n",
      " 1   disbursed_amount        10000 non-null  object\n",
      " 2   interest                10000 non-null  object\n",
      " 3   market                  10000 non-null  object\n",
      " 4   employment              9389 non-null   object\n",
      " 5   time_employed           9471 non-null   object\n",
      " 6   householder             10000 non-null  object\n",
      " 7   income                  10000 non-null  object\n",
      " 8   date_issued             10000 non-null  object\n",
      " 9   target                  10000 non-null  object\n",
      " 10  loan_purpose            10000 non-null  object\n",
      " 11  number_open_accounts    10000 non-null  object\n",
      " 12  date_last_payment       10000 non-null  object\n",
      " 13  number_credit_lines_12  238 non-null    object\n",
      "dtypes: object(14)\n",
      "memory usage: 1.1+ MB\n"
     ]
    }
   ],
   "source": [
    "data.info()"
   ]
  },
  {
   "cell_type": "code",
   "execution_count": 15,
   "metadata": {},
   "outputs": [
    {
     "data": {
      "text/plain": [
       "dtype('O')"
      ]
     },
     "execution_count": 15,
     "metadata": {},
     "output_type": "execute_result"
    }
   ],
   "source": [
    "data['disbursed_amount'].dtype"
   ]
  },
  {
   "cell_type": "code",
   "execution_count": 16,
   "metadata": {},
   "outputs": [],
   "source": [
    "#find the categorical variables\n",
    "cat_columns = [c for c in data.columns if data[c].dtypes != \"O\"]"
   ]
  },
  {
   "cell_type": "code",
   "execution_count": 17,
   "metadata": {},
   "outputs": [
    {
     "data": {
      "text/plain": [
       "[]"
      ]
     },
     "execution_count": 17,
     "metadata": {},
     "output_type": "execute_result"
    }
   ],
   "source": [
    "cat_columns"
   ]
  },
  {
   "cell_type": "code",
   "execution_count": 18,
   "metadata": {},
   "outputs": [
    {
     "name": "stdout",
     "output_type": "stream",
     "text": [
      "there are some numerical datatype\n"
     ]
    }
   ],
   "source": [
    "if len(cat_columns) == len(data.columns):\n",
    "    print(\"All rows are of Object datatype\")\n",
    "else:\n",
    "    print(\"there are some numerical datatype\")"
   ]
  },
  {
   "cell_type": "code",
   "execution_count": 19,
   "metadata": {},
   "outputs": [],
   "source": [
    "#As we can see all are object datatype, we will convert \"disbursed_amount\", and \"interest\" attributes to float datatype"
   ]
  },
  {
   "cell_type": "code",
   "execution_count": 20,
   "metadata": {},
   "outputs": [],
   "source": [
    "data['disbursed_amount'] = data['disbursed_amount'].astype('float')"
   ]
  },
  {
   "cell_type": "code",
   "execution_count": 21,
   "metadata": {},
   "outputs": [],
   "source": [
    "data['interest'] = data['interest'].astype('float')"
   ]
  },
  {
   "cell_type": "code",
   "execution_count": 22,
   "metadata": {},
   "outputs": [],
   "source": [
    "#find the continuous values \n",
    "continuous_columns = [c for c in data.columns if data[c].dtypes != \"O\"]"
   ]
  },
  {
   "cell_type": "code",
   "execution_count": 23,
   "metadata": {},
   "outputs": [
    {
     "data": {
      "text/plain": [
       "['disbursed_amount', 'interest']"
      ]
     },
     "execution_count": 23,
     "metadata": {},
     "output_type": "execute_result"
    }
   ],
   "source": [
    "continuous_columns"
   ]
  },
  {
   "cell_type": "code",
   "execution_count": 24,
   "metadata": {},
   "outputs": [
    {
     "data": {
      "text/plain": [
       "14132.2755"
      ]
     },
     "execution_count": 24,
     "metadata": {},
     "output_type": "execute_result"
    }
   ],
   "source": [
    "data['disbursed_amount'].mean()"
   ]
  },
  {
   "cell_type": "code",
   "execution_count": 25,
   "metadata": {},
   "outputs": [
    {
     "data": {
      "text/plain": [
       "12.678819440000037"
      ]
     },
     "execution_count": 25,
     "metadata": {},
     "output_type": "execute_result"
    }
   ],
   "source": [
    "data['interest'].mean()"
   ]
  },
  {
   "cell_type": "markdown",
   "metadata": {},
   "source": [
    "# Question 2"
   ]
  },
  {
   "cell_type": "code",
   "execution_count": 26,
   "metadata": {},
   "outputs": [
    {
     "data": {
      "text/plain": [
       "0\n",
       "customer_id                object\n",
       "disbursed_amount          float64\n",
       "interest                  float64\n",
       "market                     object\n",
       "employment                 object\n",
       "time_employed              object\n",
       "householder                object\n",
       "income                     object\n",
       "date_issued                object\n",
       "target                     object\n",
       "loan_purpose               object\n",
       "number_open_accounts       object\n",
       "date_last_payment          object\n",
       "number_credit_lines_12     object\n",
       "dtype: object"
      ]
     },
     "execution_count": 26,
     "metadata": {},
     "output_type": "execute_result"
    }
   ],
   "source": [
    "data.dtypes"
   ]
  },
  {
   "cell_type": "code",
   "execution_count": 27,
   "metadata": {},
   "outputs": [
    {
     "name": "stdout",
     "output_type": "stream",
     "text": [
      "cutomer_id:  ['0' '1' '2' ... '9997' '9998' '9999']\n",
      "income:  ['84600.0' '102000.0' '69840.0' ... '228420.0' '133950.0' '55941.84']\n",
      "Open_account:  ['4.0' '13.0' '8.0' '20.0' '14.0' '5.0' '9.0' '18.0' '16.0' '17.0' '12.0'\n",
      " '15.0' '6.0' '10.0' '11.0' '7.0' '21.0' '19.0' '26.0' '2.0' '22.0' '27.0'\n",
      " '23.0' '25.0' '24.0' '28.0' '3.0' '30.0' '41.0' '32.0' '33.0' '31.0'\n",
      " '29.0' '37.0' '49.0' '34.0' '35.0' '38.0' '1.0' '36.0' '42.0' '47.0'\n",
      " '40.0' '44.0' '43.0']\n",
      "target:  ['0' '1']\n"
     ]
    }
   ],
   "source": [
    "print(\"cutomer_id: \",data['customer_id'].unique())\n",
    "print(\"income: \",data['income'].unique())\n",
    "print(\"Open_account: \",data['number_open_accounts'].unique())\n",
    "print(\"target: \",data['target'].unique())"
   ]
  },
  {
   "cell_type": "code",
   "execution_count": 29,
   "metadata": {},
   "outputs": [],
   "source": [
    "data['customer_id'] = data['customer_id'].astype(int)\n",
    "data['income'] = data['income'].astype(float)\n",
    "data['number_open_accounts'] = data['number_open_accounts'].astype(float)"
   ]
  },
  {
   "cell_type": "code",
   "execution_count": 30,
   "metadata": {},
   "outputs": [],
   "source": [
    "data['income'] = data['income'].astype(int)\n",
    "data['number_open_accounts'] = data['number_open_accounts'].astype(int)"
   ]
  },
  {
   "cell_type": "code",
   "execution_count": 31,
   "metadata": {},
   "outputs": [
    {
     "data": {
      "text/plain": [
       "0\n",
       "customer_id                 int32\n",
       "disbursed_amount          float64\n",
       "interest                  float64\n",
       "market                     object\n",
       "employment                 object\n",
       "time_employed              object\n",
       "householder                object\n",
       "income                      int32\n",
       "date_issued                object\n",
       "target                     object\n",
       "loan_purpose               object\n",
       "number_open_accounts        int32\n",
       "date_last_payment          object\n",
       "number_credit_lines_12     object\n",
       "dtype: object"
      ]
     },
     "execution_count": 31,
     "metadata": {},
     "output_type": "execute_result"
    }
   ],
   "source": [
    "data.dtypes"
   ]
  },
  {
   "cell_type": "code",
   "execution_count": 32,
   "metadata": {},
   "outputs": [
    {
     "name": "stdout",
     "output_type": "stream",
     "text": [
      "int32\n",
      "int32\n",
      "int32\n"
     ]
    }
   ],
   "source": [
    "print(data['customer_id'].dtype)\n",
    "print(data['income'].dtype)\n",
    "print(data['number_open_accounts'].dtype)"
   ]
  },
  {
   "cell_type": "code",
   "execution_count": 33,
   "metadata": {},
   "outputs": [],
   "source": [
    "#find the discrete values \n",
    "discrete_columns = [c for c in data.columns if data[c].dtypes == \"int32\"]"
   ]
  },
  {
   "cell_type": "code",
   "execution_count": 34,
   "metadata": {},
   "outputs": [
    {
     "name": "stdout",
     "output_type": "stream",
     "text": [
      "['customer_id', 'income', 'number_open_accounts']\n",
      "Number of discrete variables :  3\n"
     ]
    }
   ],
   "source": [
    "print(discrete_columns)\n",
    "print(\"Number of discrete variables : \",len(discrete_columns))"
   ]
  },
  {
   "cell_type": "markdown",
   "metadata": {},
   "source": [
    "# Question3"
   ]
  },
  {
   "cell_type": "code",
   "execution_count": 35,
   "metadata": {},
   "outputs": [
    {
     "data": {
      "text/plain": [
       "array([   0,    1,    2, ..., 9997, 9998, 9999])"
      ]
     },
     "execution_count": 35,
     "metadata": {},
     "output_type": "execute_result"
    }
   ],
   "source": [
    "\n",
    "data['customer_id'].unique()\n"
   ]
  },
  {
   "cell_type": "code",
   "execution_count": 36,
   "metadata": {},
   "outputs": [
    {
     "data": {
      "text/plain": [
       "array([ 84600, 102000,  69840, ...,  26112, 228420, 133950])"
      ]
     },
     "execution_count": 36,
     "metadata": {},
     "output_type": "execute_result"
    }
   ],
   "source": [
    "data['income'].unique()"
   ]
  },
  {
   "cell_type": "code",
   "execution_count": 37,
   "metadata": {},
   "outputs": [
    {
     "name": "stdout",
     "output_type": "stream",
     "text": [
      "11    894\n",
      "10    890\n",
      "9     877\n",
      "12    850\n",
      "8     755\n",
      "13    721\n",
      "7     627\n",
      "14    598\n",
      "15    522\n",
      "16    454\n",
      "6     438\n",
      "17    374\n",
      "18    306\n",
      "5     254\n",
      "19    221\n",
      "20    209\n",
      "21    155\n",
      "4     142\n",
      "22    113\n",
      "23    104\n",
      "24    102\n",
      "26     69\n",
      "25     58\n",
      "27     49\n",
      "3      47\n",
      "28     31\n",
      "29     29\n",
      "31     20\n",
      "30     14\n",
      "34     12\n",
      "2      12\n",
      "32      9\n",
      "33      8\n",
      "36      7\n",
      "35      6\n",
      "42      4\n",
      "37      4\n",
      "38      3\n",
      "41      2\n",
      "49      2\n",
      "43      2\n",
      "1       2\n",
      "44      2\n",
      "40      1\n",
      "47      1\n",
      "Name: number_open_accounts, dtype: int64\n"
     ]
    },
    {
     "data": {
      "text/plain": [
       "array([ 4, 13,  8, 20, 14,  5,  9, 18, 16, 17, 12, 15,  6, 10, 11,  7, 21,\n",
       "       19, 26,  2, 22, 27, 23, 25, 24, 28,  3, 30, 41, 32, 33, 31, 29, 37,\n",
       "       49, 34, 35, 38,  1, 36, 42, 47, 40, 44, 43])"
      ]
     },
     "execution_count": 37,
     "metadata": {},
     "output_type": "execute_result"
    }
   ],
   "source": [
    "print(data['number_open_accounts'].value_counts())\n",
    "data['number_open_accounts'].unique()"
   ]
  },
  {
   "cell_type": "markdown",
   "metadata": {},
   "source": [
    "# Quetion 4"
   ]
  },
  {
   "cell_type": "code",
   "execution_count": 38,
   "metadata": {},
   "outputs": [
    {
     "data": {
      "text/html": [
       "<div>\n",
       "<style scoped>\n",
       "    .dataframe tbody tr th:only-of-type {\n",
       "        vertical-align: middle;\n",
       "    }\n",
       "\n",
       "    .dataframe tbody tr th {\n",
       "        vertical-align: top;\n",
       "    }\n",
       "\n",
       "    .dataframe thead th {\n",
       "        text-align: right;\n",
       "    }\n",
       "</style>\n",
       "<table border=\"1\" class=\"dataframe\">\n",
       "  <thead>\n",
       "    <tr style=\"text-align: right;\">\n",
       "      <th></th>\n",
       "      <th>customer_id</th>\n",
       "      <th>disbursed_amount</th>\n",
       "      <th>interest</th>\n",
       "      <th>market</th>\n",
       "      <th>employment</th>\n",
       "      <th>time_employed</th>\n",
       "      <th>householder</th>\n",
       "      <th>income</th>\n",
       "      <th>date_issued</th>\n",
       "      <th>target</th>\n",
       "      <th>loan_purpose</th>\n",
       "      <th>number_open_accounts</th>\n",
       "      <th>date_last_payment</th>\n",
       "      <th>number_credit_lines_12</th>\n",
       "    </tr>\n",
       "  </thead>\n",
       "  <tbody>\n",
       "    <tr>\n",
       "      <th>1</th>\n",
       "      <td>0</td>\n",
       "      <td>23201.5</td>\n",
       "      <td>15.4840</td>\n",
       "      <td>C</td>\n",
       "      <td>Teacher</td>\n",
       "      <td>&lt;=5 years</td>\n",
       "      <td>RENT</td>\n",
       "      <td>84600</td>\n",
       "      <td>2013-06-11</td>\n",
       "      <td>0</td>\n",
       "      <td>Debt consolidation</td>\n",
       "      <td>4</td>\n",
       "      <td>2016-01-14</td>\n",
       "      <td>NaN</td>\n",
       "    </tr>\n",
       "    <tr>\n",
       "      <th>2</th>\n",
       "      <td>1</td>\n",
       "      <td>7425.0</td>\n",
       "      <td>11.2032</td>\n",
       "      <td>B</td>\n",
       "      <td>Accountant</td>\n",
       "      <td>&lt;=5 years</td>\n",
       "      <td>OWNER</td>\n",
       "      <td>102000</td>\n",
       "      <td>2014-05-08</td>\n",
       "      <td>0</td>\n",
       "      <td>Car purchase</td>\n",
       "      <td>13</td>\n",
       "      <td>2016-01-25</td>\n",
       "      <td>NaN</td>\n",
       "    </tr>\n",
       "    <tr>\n",
       "      <th>3</th>\n",
       "      <td>2</td>\n",
       "      <td>11150.0</td>\n",
       "      <td>8.5100</td>\n",
       "      <td>A</td>\n",
       "      <td>Statistician</td>\n",
       "      <td>&lt;=5 years</td>\n",
       "      <td>RENT</td>\n",
       "      <td>69840</td>\n",
       "      <td>2013-10-26</td>\n",
       "      <td>0</td>\n",
       "      <td>Debt consolidation</td>\n",
       "      <td>8</td>\n",
       "      <td>2014-09-26</td>\n",
       "      <td>NaN</td>\n",
       "    </tr>\n",
       "    <tr>\n",
       "      <th>4</th>\n",
       "      <td>3</td>\n",
       "      <td>7600.0</td>\n",
       "      <td>5.8656</td>\n",
       "      <td>A</td>\n",
       "      <td>Other</td>\n",
       "      <td>&lt;=5 years</td>\n",
       "      <td>RENT</td>\n",
       "      <td>100386</td>\n",
       "      <td>2015-08-20</td>\n",
       "      <td>0</td>\n",
       "      <td>Debt consolidation</td>\n",
       "      <td>20</td>\n",
       "      <td>2016-01-26</td>\n",
       "      <td>NaN</td>\n",
       "    </tr>\n",
       "    <tr>\n",
       "      <th>5</th>\n",
       "      <td>4</td>\n",
       "      <td>31960.0</td>\n",
       "      <td>18.7392</td>\n",
       "      <td>E</td>\n",
       "      <td>Bus driver</td>\n",
       "      <td>&gt;5 years</td>\n",
       "      <td>RENT</td>\n",
       "      <td>95040</td>\n",
       "      <td>2014-07-22</td>\n",
       "      <td>0</td>\n",
       "      <td>Debt consolidation</td>\n",
       "      <td>14</td>\n",
       "      <td>2016-01-11</td>\n",
       "      <td>NaN</td>\n",
       "    </tr>\n",
       "  </tbody>\n",
       "</table>\n",
       "</div>"
      ],
      "text/plain": [
       "0  customer_id  disbursed_amount  interest market    employment time_employed  \\\n",
       "1            0           23201.5   15.4840      C       Teacher     <=5 years   \n",
       "2            1            7425.0   11.2032      B    Accountant     <=5 years   \n",
       "3            2           11150.0    8.5100      A  Statistician     <=5 years   \n",
       "4            3            7600.0    5.8656      A         Other     <=5 years   \n",
       "5            4           31960.0   18.7392      E    Bus driver      >5 years   \n",
       "\n",
       "0 householder  income date_issued target        loan_purpose  \\\n",
       "1        RENT   84600  2013-06-11      0  Debt consolidation   \n",
       "2       OWNER  102000  2014-05-08      0        Car purchase   \n",
       "3        RENT   69840  2013-10-26      0  Debt consolidation   \n",
       "4        RENT  100386  2015-08-20      0  Debt consolidation   \n",
       "5        RENT   95040  2014-07-22      0  Debt consolidation   \n",
       "\n",
       "0  number_open_accounts date_last_payment number_credit_lines_12  \n",
       "1                     4        2016-01-14                    NaN  \n",
       "2                    13        2016-01-25                    NaN  \n",
       "3                     8        2014-09-26                    NaN  \n",
       "4                    20        2016-01-26                    NaN  \n",
       "5                    14        2016-01-11                    NaN  "
      ]
     },
     "execution_count": 38,
     "metadata": {},
     "output_type": "execute_result"
    }
   ],
   "source": [
    "data.head()"
   ]
  },
  {
   "cell_type": "code",
   "execution_count": 39,
   "metadata": {},
   "outputs": [],
   "source": [
    "#recast it to datetime\n",
    "data['date_issued_dt'] = pd.to_datetime(data['date_issued'])"
   ]
  },
  {
   "cell_type": "code",
   "execution_count": 40,
   "metadata": {
    "scrolled": true
   },
   "outputs": [
    {
     "data": {
      "text/html": [
       "<div>\n",
       "<style scoped>\n",
       "    .dataframe tbody tr th:only-of-type {\n",
       "        vertical-align: middle;\n",
       "    }\n",
       "\n",
       "    .dataframe tbody tr th {\n",
       "        vertical-align: top;\n",
       "    }\n",
       "\n",
       "    .dataframe thead th {\n",
       "        text-align: right;\n",
       "    }\n",
       "</style>\n",
       "<table border=\"1\" class=\"dataframe\">\n",
       "  <thead>\n",
       "    <tr style=\"text-align: right;\">\n",
       "      <th></th>\n",
       "      <th>customer_id</th>\n",
       "      <th>disbursed_amount</th>\n",
       "      <th>interest</th>\n",
       "      <th>market</th>\n",
       "      <th>employment</th>\n",
       "      <th>time_employed</th>\n",
       "      <th>householder</th>\n",
       "      <th>income</th>\n",
       "      <th>date_issued</th>\n",
       "      <th>target</th>\n",
       "      <th>loan_purpose</th>\n",
       "      <th>number_open_accounts</th>\n",
       "      <th>date_last_payment</th>\n",
       "      <th>number_credit_lines_12</th>\n",
       "      <th>date_issued_dt</th>\n",
       "    </tr>\n",
       "  </thead>\n",
       "  <tbody>\n",
       "    <tr>\n",
       "      <th>1</th>\n",
       "      <td>0</td>\n",
       "      <td>23201.5</td>\n",
       "      <td>15.4840</td>\n",
       "      <td>C</td>\n",
       "      <td>Teacher</td>\n",
       "      <td>&lt;=5 years</td>\n",
       "      <td>RENT</td>\n",
       "      <td>84600</td>\n",
       "      <td>2013-06-11</td>\n",
       "      <td>0</td>\n",
       "      <td>Debt consolidation</td>\n",
       "      <td>4</td>\n",
       "      <td>2016-01-14</td>\n",
       "      <td>NaN</td>\n",
       "      <td>2013-06-11</td>\n",
       "    </tr>\n",
       "    <tr>\n",
       "      <th>2</th>\n",
       "      <td>1</td>\n",
       "      <td>7425.0</td>\n",
       "      <td>11.2032</td>\n",
       "      <td>B</td>\n",
       "      <td>Accountant</td>\n",
       "      <td>&lt;=5 years</td>\n",
       "      <td>OWNER</td>\n",
       "      <td>102000</td>\n",
       "      <td>2014-05-08</td>\n",
       "      <td>0</td>\n",
       "      <td>Car purchase</td>\n",
       "      <td>13</td>\n",
       "      <td>2016-01-25</td>\n",
       "      <td>NaN</td>\n",
       "      <td>2014-05-08</td>\n",
       "    </tr>\n",
       "    <tr>\n",
       "      <th>3</th>\n",
       "      <td>2</td>\n",
       "      <td>11150.0</td>\n",
       "      <td>8.5100</td>\n",
       "      <td>A</td>\n",
       "      <td>Statistician</td>\n",
       "      <td>&lt;=5 years</td>\n",
       "      <td>RENT</td>\n",
       "      <td>69840</td>\n",
       "      <td>2013-10-26</td>\n",
       "      <td>0</td>\n",
       "      <td>Debt consolidation</td>\n",
       "      <td>8</td>\n",
       "      <td>2014-09-26</td>\n",
       "      <td>NaN</td>\n",
       "      <td>2013-10-26</td>\n",
       "    </tr>\n",
       "    <tr>\n",
       "      <th>4</th>\n",
       "      <td>3</td>\n",
       "      <td>7600.0</td>\n",
       "      <td>5.8656</td>\n",
       "      <td>A</td>\n",
       "      <td>Other</td>\n",
       "      <td>&lt;=5 years</td>\n",
       "      <td>RENT</td>\n",
       "      <td>100386</td>\n",
       "      <td>2015-08-20</td>\n",
       "      <td>0</td>\n",
       "      <td>Debt consolidation</td>\n",
       "      <td>20</td>\n",
       "      <td>2016-01-26</td>\n",
       "      <td>NaN</td>\n",
       "      <td>2015-08-20</td>\n",
       "    </tr>\n",
       "    <tr>\n",
       "      <th>5</th>\n",
       "      <td>4</td>\n",
       "      <td>31960.0</td>\n",
       "      <td>18.7392</td>\n",
       "      <td>E</td>\n",
       "      <td>Bus driver</td>\n",
       "      <td>&gt;5 years</td>\n",
       "      <td>RENT</td>\n",
       "      <td>95040</td>\n",
       "      <td>2014-07-22</td>\n",
       "      <td>0</td>\n",
       "      <td>Debt consolidation</td>\n",
       "      <td>14</td>\n",
       "      <td>2016-01-11</td>\n",
       "      <td>NaN</td>\n",
       "      <td>2014-07-22</td>\n",
       "    </tr>\n",
       "  </tbody>\n",
       "</table>\n",
       "</div>"
      ],
      "text/plain": [
       "0  customer_id  disbursed_amount  interest market    employment time_employed  \\\n",
       "1            0           23201.5   15.4840      C       Teacher     <=5 years   \n",
       "2            1            7425.0   11.2032      B    Accountant     <=5 years   \n",
       "3            2           11150.0    8.5100      A  Statistician     <=5 years   \n",
       "4            3            7600.0    5.8656      A         Other     <=5 years   \n",
       "5            4           31960.0   18.7392      E    Bus driver      >5 years   \n",
       "\n",
       "0 householder  income date_issued target        loan_purpose  \\\n",
       "1        RENT   84600  2013-06-11      0  Debt consolidation   \n",
       "2       OWNER  102000  2014-05-08      0        Car purchase   \n",
       "3        RENT   69840  2013-10-26      0  Debt consolidation   \n",
       "4        RENT  100386  2015-08-20      0  Debt consolidation   \n",
       "5        RENT   95040  2014-07-22      0  Debt consolidation   \n",
       "\n",
       "0  number_open_accounts date_last_payment number_credit_lines_12  \\\n",
       "1                     4        2016-01-14                    NaN   \n",
       "2                    13        2016-01-25                    NaN   \n",
       "3                     8        2014-09-26                    NaN   \n",
       "4                    20        2016-01-26                    NaN   \n",
       "5                    14        2016-01-11                    NaN   \n",
       "\n",
       "0 date_issued_dt  \n",
       "1     2013-06-11  \n",
       "2     2014-05-08  \n",
       "3     2013-10-26  \n",
       "4     2015-08-20  \n",
       "5     2014-07-22  "
      ]
     },
     "execution_count": 40,
     "metadata": {},
     "output_type": "execute_result"
    }
   ],
   "source": [
    "data.head()"
   ]
  },
  {
   "cell_type": "code",
   "execution_count": 41,
   "metadata": {},
   "outputs": [],
   "source": [
    "data['month'] = data['date_issued_dt'].dt.month"
   ]
  },
  {
   "cell_type": "code",
   "execution_count": 42,
   "metadata": {},
   "outputs": [
    {
     "data": {
      "text/plain": [
       "array([ 6,  5, 10,  8,  7,  9,  3,  2, 12, 11,  4,  1], dtype=int64)"
      ]
     },
     "execution_count": 42,
     "metadata": {},
     "output_type": "execute_result"
    }
   ],
   "source": [
    "data['month'].unique()"
   ]
  },
  {
   "cell_type": "code",
   "execution_count": 56,
   "metadata": {},
   "outputs": [
    {
     "name": "stdout",
     "output_type": "stream",
     "text": [
      "The Month with most of loans issued date:  10\n"
     ]
    }
   ],
   "source": [
    "hello = data['month'].value_counts()[0:1]\n",
    "hello = dict(hello)\n",
    "print(\"The Month with most of loans issued date: \",list(hello.keys())[0])"
   ]
  },
  {
   "cell_type": "markdown",
   "metadata": {},
   "source": [
    "# Question 5"
   ]
  },
  {
   "cell_type": "code",
   "execution_count": 73,
   "metadata": {},
   "outputs": [
    {
     "name": "stdout",
     "output_type": "stream",
     "text": [
      "The count of ‘Teacher’ who are ‘Owners’:  69\n"
     ]
    }
   ],
   "source": [
    "count = data[(data['employment'] == 'Teacher') & (data['householder'] == 'OWNER')].count()[0]\n",
    "print(\"The count of ‘Teacher’ who are ‘Owners’: \",count)"
   ]
  },
  {
   "cell_type": "markdown",
   "metadata": {},
   "source": [
    "# Question 6"
   ]
  },
  {
   "cell_type": "code",
   "execution_count": 83,
   "metadata": {},
   "outputs": [],
   "source": [
    "df = (data[(data['householder']=='RENT')])"
   ]
  },
  {
   "cell_type": "code",
   "execution_count": 84,
   "metadata": {},
   "outputs": [
    {
     "data": {
      "text/plain": [
       "(4055, 16)"
      ]
     },
     "execution_count": 84,
     "metadata": {},
     "output_type": "execute_result"
    }
   ],
   "source": [
    "df.shape"
   ]
  },
  {
   "cell_type": "code",
   "execution_count": 87,
   "metadata": {},
   "outputs": [],
   "source": [
    "listt= (df['employment'].unique())"
   ]
  },
  {
   "cell_type": "code",
   "execution_count": 90,
   "metadata": {},
   "outputs": [
    {
     "name": "stdout",
     "output_type": "stream",
     "text": [
      "The ‘Employment’ of customers who mostly ‘Rent’:\n",
      "\n",
      "  ['Teacher' 'Statistician' 'Other' 'Bus driver' 'Secretary'\n",
      " 'Software developer' 'Nurse' 'Accountant' 'Civil Servant' 'Dentist'\n",
      " 'Taxi driver' nan]\n"
     ]
    }
   ],
   "source": [
    "print(\"The ‘Employment’ of customers who mostly ‘Rent’:\\n\\n \",listt)"
   ]
  },
  {
   "cell_type": "code",
   "execution_count": null,
   "metadata": {},
   "outputs": [],
   "source": []
  }
 ],
 "metadata": {
  "kernelspec": {
   "display_name": "Python 3",
   "language": "python",
   "name": "python3"
  },
  "language_info": {
   "codemirror_mode": {
    "name": "ipython",
    "version": 3
   },
   "file_extension": ".py",
   "mimetype": "text/x-python",
   "name": "python",
   "nbconvert_exporter": "python",
   "pygments_lexer": "ipython3",
   "version": "3.7.6"
  }
 },
 "nbformat": 4,
 "nbformat_minor": 4
}
